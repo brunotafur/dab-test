{
 "cells": [
  {
   "cell_type": "markdown",
   "metadata": {
    "application/vnd.databricks.v1+cell": {
     "cellMetadata": {},
     "inputWidgets": {},
     "nuid": "ee353e42-ff58-4955-9608-12865bd0950e",
     "showTitle": false,
     "title": ""
    }
   },
   "source": [
    "# Default notebook\n",
    "\n",
    "This default notebook is executed using Databricks Workflows as defined in resources/dab_test_job.yml."
   ]
  },
  {
   "cell_type": "code",
   "execution_count": 2,
   "metadata": {
    "application/vnd.databricks.v1+cell": {
     "cellMetadata": {
      "byteLimit": 2048000,
      "rowLimit": 10000
     },
     "inputWidgets": {},
     "nuid": "6bca260b-13d1-448f-8082-30b60a85c9ae",
     "showTitle": false,
     "title": ""
    }
   },
   "outputs": [
    {
     "ename": "RuntimeError",
     "evalue": "Only remote Spark sessions using Databricks Connect are supported. Could not find connection parameters to start a Spark remote session.",
     "output_type": "error",
     "traceback": [
      "\u001b[0;31m---------------------------------------------------------------------------\u001b[0m",
      "\u001b[0;31mRuntimeError\u001b[0m                              Traceback (most recent call last)",
      "Cell \u001b[0;32mIn[2], line 3\u001b[0m\n\u001b[1;32m      1\u001b[0m \u001b[39mfrom\u001b[39;00m \u001b[39mdab_test\u001b[39;00m \u001b[39mimport\u001b[39;00m main\n\u001b[0;32m----> 3\u001b[0m main\u001b[39m.\u001b[39;49mget_taxis()\u001b[39m.\u001b[39mshow(\u001b[39m10\u001b[39m)\n",
      "File \u001b[0;32m~/dab-test/dab_test/src/dab_test/main.py:4\u001b[0m, in \u001b[0;36mget_taxis\u001b[0;34m()\u001b[0m\n\u001b[1;32m      3\u001b[0m \u001b[39mdef\u001b[39;00m \u001b[39mget_taxis\u001b[39m():\n\u001b[0;32m----> 4\u001b[0m   spark \u001b[39m=\u001b[39m SparkSession\u001b[39m.\u001b[39;49mbuilder\u001b[39m.\u001b[39;49mgetOrCreate()\n\u001b[1;32m      5\u001b[0m   \u001b[39mreturn\u001b[39;00m spark\u001b[39m.\u001b[39mread\u001b[39m.\u001b[39mtable(\u001b[39m\"\u001b[39m\u001b[39msamples.nyctaxi.trips\u001b[39m\u001b[39m\"\u001b[39m)\n",
      "File \u001b[0;32m/opt/homebrew/anaconda3/envs/dbconnectenv/lib/python3.10/site-packages/pyspark/sql/session.py:488\u001b[0m, in \u001b[0;36mSparkSession.Builder.getOrCreate\u001b[0;34m(self)\u001b[0m\n\u001b[1;32m    482\u001b[0m         \u001b[39melse\u001b[39;00m:\n\u001b[1;32m    483\u001b[0m             \u001b[39mraise\u001b[39;00m \u001b[39mRuntimeError\u001b[39;00m(\n\u001b[1;32m    484\u001b[0m                 \u001b[39m\"\u001b[39m\u001b[39mCannot start a remote Spark session because there \u001b[39m\u001b[39m\"\u001b[39m\n\u001b[1;32m    485\u001b[0m                 \u001b[39m\"\u001b[39m\u001b[39mis a regular Spark session already running.\u001b[39m\u001b[39m\"\u001b[39m\n\u001b[1;32m    486\u001b[0m             )\n\u001b[0;32m--> 488\u001b[0m \u001b[39mraise\u001b[39;00m \u001b[39mRuntimeError\u001b[39;00m(\n\u001b[1;32m    489\u001b[0m     \u001b[39m\"\u001b[39m\u001b[39mOnly remote Spark sessions using Databricks Connect are supported. \u001b[39m\u001b[39m\"\u001b[39m \u001b[39m+\u001b[39m\n\u001b[1;32m    490\u001b[0m     \u001b[39m\"\u001b[39m\u001b[39mCould not find connection parameters to start a Spark remote session.\u001b[39m\u001b[39m\"\u001b[39m\n\u001b[1;32m    491\u001b[0m )\n\u001b[1;32m    493\u001b[0m session \u001b[39m=\u001b[39m SparkSession\u001b[39m.\u001b[39m_instantiatedSession\n\u001b[1;32m    494\u001b[0m \u001b[39mif\u001b[39;00m session \u001b[39mis\u001b[39;00m \u001b[39mNone\u001b[39;00m \u001b[39mor\u001b[39;00m session\u001b[39m.\u001b[39m_sc\u001b[39m.\u001b[39m_jsc \u001b[39mis\u001b[39;00m \u001b[39mNone\u001b[39;00m:\n",
      "\u001b[0;31mRuntimeError\u001b[0m: Only remote Spark sessions using Databricks Connect are supported. Could not find connection parameters to start a Spark remote session."
     ]
    }
   ],
   "source": [
    "from dab_test import main\n",
    "\n",
    "main.get_taxis().show(10) "
   ]
  },
  {
   "cell_type": "code",
   "execution_count": null,
   "metadata": {},
   "outputs": [],
   "source": []
  }
 ],
 "metadata": {
  "application/vnd.databricks.v1+notebook": {
   "dashboards": [],
   "language": "python",
   "notebookMetadata": {
    "pythonIndentUnit": 2
   },
   "notebookName": "notebook",
   "widgets": {}
  },
  "kernelspec": {
   "display_name": "dbconnectenv",
   "language": "python",
   "name": "python3"
  },
  "language_info": {
   "codemirror_mode": {
    "name": "ipython",
    "version": 3
   },
   "file_extension": ".py",
   "mimetype": "text/x-python",
   "name": "python",
   "nbconvert_exporter": "python",
   "pygments_lexer": "ipython3",
   "version": "3.10.13"
  },
  "vscode": {
   "interpreter": {
    "hash": "b572bc578e1132e4e3b74742473d2598c27777f3af045b3c6aa8b89b164d8ba5"
   }
  }
 },
 "nbformat": 4,
 "nbformat_minor": 0
}
